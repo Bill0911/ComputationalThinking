{
 "cells": [
  {
   "cell_type": "code",
   "execution_count": null,
   "metadata": {},
   "outputs": [],
   "source": [
    "import numpy as np\n",
    "import matplotlib.pyplot as plt\n",
    "\n",
    "#Step by step\n",
    "##Define a function roll_dice that simulates dice rolls.\n",
    "##Create datasets X and Y using the roll_dice function.\n",
    "##Define a function rearrangement that performs the permutation test.\n",
    "##Use the rearrangement function to calculate the 95% confidence interval.\n",
    "##Check if the difference in means falls within the confidence interval.\n",
    "##Vary the values of k and n and observe the results.\n",
    "#Make a recommendation for the values of k and n based on the observations.\n",
    "def roll_dice(k, sides=6, bias=None):\n",
    "    if bias is None:\n",
    "        bias = [1/sides]*sides\n",
    "    return np.random.choice(range(1, sides+1), size=k, p=bias)\n",
    "\n",
    "def rearrangement(X, Y, n=10000):\n",
    "    diff = np.mean(X) - np.mean(Y)\n",
    "    combined = np.concatenate((X, Y))\n",
    "    diffs = []\n",
    "    for _ in range(n):\n",
    "        np.random.shuffle(combined)\n",
    "        new_X = combined[:len(X)]\n",
    "        new_Y = combined[len(X):]\n",
    "        diffs.append(np.mean(new_X) - np.mean(new_Y))\n",
    "    return diffs, diff\n",
    "\n",
    "# Simulate dice rolls\n",
    "X = roll_dice(100, bias=[0.1, 0.1, 0.1, 0.1, 0.1, 0.5])  # Fake die\n",
    "Y = roll_dice(100)  # Fair die\n",
    "\n",
    "# Perform permutation test\n",
    "diffs, original_diff = rearrangement(X, Y)\n",
    "\n",
    "# Calculate confidence interval\n",
    "lower, upper = np.percentile(diffs, [2.5, 97.5])\n",
    "\n",
    "# Plot histogram\n",
    "plt.hist(diffs, bins=30, alpha=0.5)\n",
    "plt.axvline(x=lower, color='r', linestyle='dashed', linewidth=2)\n",
    "plt.axvline(x=upper, color='r', linestyle='dashed', linewidth=2)\n",
    "plt.axvline(x=original_diff, color='b', linestyle='dashed', linewidth=2)\n",
    "plt.show()\n",
    "\n",
    "# Check if difference in means falls within the confidence interval\n",
    "if lower <= original_diff <= upper:\n",
    "    print(\"The dice are likely the same.\")\n",
    "else:\n",
    "    print(\"The dice are likely different.\")"
   ]
  }
 ],
 "metadata": {
  "language_info": {
   "name": "python"
  }
 },
 "nbformat": 4,
 "nbformat_minor": 2
}
