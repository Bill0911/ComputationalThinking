{
 "cells": [
  {
   "cell_type": "code",
   "execution_count": null,
   "metadata": {},
   "outputs": [],
   "source": [
    "import numpy as np\n",
    "import random\n",
    "import matplotlib.pyplot as plt\n",
    "\n",
    "# Step 1\n",
    "def roll_fair_die():\n",
    "    return random.randint(1, 6)\n",
    "\n",
    "# Step 2\n",
    "def roll_biased_die():\n",
    "    return random.choices([1, 2, 3, 4, 5, 6], weights=[1, 1, 1, 1, 1, 2])[0]\n",
    "\n",
    "# Step 3\n",
    "def bootstrap_dataset(original_dataset, k):\n",
    "    return random.choices(original_dataset, k=k)\n",
    "\n",
    "# Step 4\n",
    "def calculate_confidence_interval(dataset, confidence=0.95):\n",
    "    return np.percentile(dataset, [(1-confidence)/2*100, (1+confidence)/2*100])\n",
    "\n",
    "# Step 5\n",
    "def is_fair(confidence_interval, expected_mean=3.5, expected_q6=1/6):\n",
    "    return confidence_interval[0] <= expected_mean <= confidence_interval[1]\n",
    "\n",
    "# Step 6\n",
    "for n, k in [(1000, 10), (100, 10), (1000, 100), (10000, 1000)]:\n",
    "    fair_dataset = [roll_fair_die() for _ in range(k)]\n",
    "    biased_dataset = [roll_biased_die() for _ in range(k)]\n",
    "    for original_dataset in [fair_dataset, biased_dataset]:\n",
    "        bootstrap_datasets = [bootstrap_dataset(original_dataset, k) for _ in range(n)]\n",
    "        means = [np.mean(dataset) for dataset in bootstrap_datasets]\n",
    "        confidence_interval = calculate_confidence_interval(means)\n",
    "        print(f\"n={n}, k={k}, is_fair={is_fair(confidence_interval)}\")\n",
    "\n",
    "# Histogram\n",
    "plt.hist(means, bins=30, alpha=0.5)\n",
    "plt.title('Histogram of means')\n",
    "plt.show()"
   ]
  }
 ],
 "metadata": {
  "language_info": {
   "name": "python"
  }
 },
 "nbformat": 4,
 "nbformat_minor": 2
}
