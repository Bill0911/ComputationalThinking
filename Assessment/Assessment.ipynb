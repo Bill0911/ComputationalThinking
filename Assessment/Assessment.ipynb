{
 "cells": [
  {
   "cell_type": "code",
   "execution_count": 11,
   "metadata": {},
   "outputs": [
    {
     "name": "stdout",
     "output_type": "stream",
     "text": [
      "Chi-squared Statistics: 0.0, P-value: 1.0\n",
      "There is not significance evidence to suggest the die is biased.\n"
     ]
    }
   ],
   "source": [
    "import numpy as np\n",
    "from scipy import stats\n",
    "\n",
    "#Step1: record outcomes of k rolls\n",
    "#Example: Rolling a die 60 times\n",
    "rolls = np.array([1, 2, 3, 4, 5, 6, 5, 4, 3, 2, 1, 6]) #Fille in its outcome\n",
    "\n",
    "#Step2: Calculate observed frequencies\n",
    "observed_frequencies = np.bincount(rolls)[1:] # Assuming die faces are 1 through 6\n",
    "\n",
    "#Step3: Calculate expected frequencies for a fair dice\n",
    "k = len(rolls) #Total number of rolls\n",
    "expected_frequencies = np.array([k / 6] * 6) # Fair die expectation\n",
    "\n",
    "#Step4: Use chi-squareed test\n",
    "chi_square_stat, p_value = stats.chisquare(observed_frequencies, expected_frequencies)\n",
    "print(f\"Chi-squared Statistics: {chi_square_stat}, P-value: {p_value}\")\n",
    "\n",
    "# Step5: Generate confidence interval for the test statistic\n",
    "# For a chi-squared test, the confidence interval is not typically calculated for the test statistic\n",
    "# Instead, we interperet the p-value in the context of our chosen significance level (e.g., 0.05).\n",
    "\n",
    "#Step6: Compare the test statistic to the critical value or use the p-value\n",
    "if p_value < 0.05:\n",
    "    print(\"There is significance evidence to suggest the die is biased.\")\n",
    "else:\n",
    "    print(\"There is not significance evidence to suggest the die is biased.\")"
   ]
  },
  {
   "cell_type": "code",
   "execution_count": 10,
   "metadata": {},
   "outputs": [
    {
     "name": "stdout",
     "output_type": "stream",
     "text": [
      "Chi-squared Statistics: 0.0, P-value: 1.0\n",
      "There is not significance evidence to suggest the die is biased.\n"
     ]
    }
   ],
   "source": [
    "\n",
    "\n"
   ]
  }
 ],
 "metadata": {
  "kernelspec": {
   "display_name": "AIdobermann",
   "language": "python",
   "name": "aidobermann"
  },
  "language_info": {
   "codemirror_mode": {
    "name": "ipython",
    "version": 3
   },
   "file_extension": ".py",
   "mimetype": "text/x-python",
   "name": "python",
   "nbconvert_exporter": "python",
   "pygments_lexer": "ipython3",
   "version": "3.8.0"
  }
 },
 "nbformat": 4,
 "nbformat_minor": 2
}
