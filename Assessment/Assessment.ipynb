{
 "cells": [
  {
   "cell_type": "code",
   "execution_count": 19,
   "metadata": {},
   "outputs": [
    {
     "name": "stdout",
     "output_type": "stream",
     "text": [
      "Chi-squared Statistics: 0.0, P-value: 1.0\n",
      "There is not significance evidence to suggest the die is biased.\n"
     ]
    }
   ],
   "source": [
    "#ASSIGNMENT 1\n",
    "\n",
    "import numpy as np\n",
    "from scipy import stats\n",
    "\n",
    "#Step1: record outcomes of k rolls\n",
    "#Example: Rolling a die 12 times\n",
    "rolls = np.array([1, 2, 3, 4, 5, 6, 5, 4, 3, 2, 1, 6]) #Fille in its outcome\n",
    "\n",
    "#Step2: Calculate observed frequencies\n",
    "observed_frequencies = np.bincount(rolls, minlength=7)[1:] # Assuming die faces are 1 through 6\n",
    "\n",
    "#Step3: Calculate expected frequencies for a fair dice\n",
    "k = len(rolls) #Total number of rolls\n",
    "expected_frequencies = np.array([k / 6] * 6) # Fair die expectation\n",
    "\n",
    "#Step4: Use chi-squareed test\n",
    "chi_square_stat, p_value = stats.chisquare(observed_frequencies, expected_frequencies)\n",
    "print(f\"Chi-squared Statistics: {chi_square_stat}, P-value: {p_value}\")\n",
    "\n",
    "# Step5: Generate confidence interval for the test statistic\n",
    "# For a chi-squared test, the confidence interval is not typically calculated for the test statistic\n",
    "# Instead, we interperet the p-value in the context of our chosen significance level (e.g., 0.05).\n",
    "\n",
    "#Step6: Compare the test statistic to the critical value or use the p-value\n",
    "if p_value < 0.05:\n",
    "    print(\"There is significance evidence to suggest the die is biased then the dice is not fair.\")\n",
    "else:\n",
    "    print(\"There is not significance evidence to suggest the die is biased, so the dice is fair.\")"
   ]
  },
  {
   "cell_type": "code",
   "execution_count": 17,
   "metadata": {},
   "outputs": [
    {
     "name": "stdout",
     "output_type": "stream",
     "text": [
      "Test statistic (mean difference): 4.625\n",
      "Confidence interval for mean difference: (3.875, 5.0)\n",
      "The test statistic is within the confidence interval. There is not significant evidence that the scores differ.\n"
     ]
    }
   ],
   "source": [
    "#ASSIGNMENT 2 PART1\n",
    "\n",
    "import numpy as np\n",
    "\n",
    "# Example data - replace these with your actual scores\n",
    "scores_before = np.array([70, 75, 80, 60, 90, 65, 78, 85])\n",
    "scores_after = np.array([75, 80, 85, 65, 95, 70, 80, 90])\n",
    "\n",
    "# Step 1: Calculate the test statistic (mean difference)\n",
    "test_statistic = np.mean(scores_after - scores_before)\n",
    "print(f\"Test statistic (mean difference): {test_statistic}\")\n",
    "\n",
    "# Step 2: Bootstrap function for confidence interval\n",
    "def bootstrap_confidence_interval(data, num_samples=10000, confidence_level=0.95):\n",
    "    bootstrap_means = []\n",
    "    for _ in range(num_samples):\n",
    "        bootstrap_sample = np.random.choice(data, size=len(data), replace=True)\n",
    "        bootstrap_means.append(np.mean(bootstrap_sample))\n",
    "    lower_bound = np.percentile(bootstrap_means, (1 - confidence_level) / 2 * 100)\n",
    "    upper_bound = np.percentile(bootstrap_means, (1 + confidence_level) / 2 * 100)\n",
    "    return lower_bound, upper_bound\n",
    "\n",
    "# Calculate confidence interval for the mean difference\n",
    "difference_scores = scores_after - scores_before\n",
    "lower_bound, upper_bound = bootstrap_confidence_interval(difference_scores)\n",
    "print(f\"Confidence interval for mean difference: ({lower_bound}, {upper_bound})\")\n",
    "\n",
    "# Step 3: Compare the test statistic to the confidence interval\n",
    "if lower_bound <= test_statistic <= upper_bound:\n",
    "    print(\"The test statistic is within the confidence interval. There is not significant evidence that the scores differ.\")\n",
    "else:\n",
    "    print(\"The test statistic is outside the confidence interval. There is significant evidence that the scores differ, suggesting the explanation had an effect.\")\n",
    "\n"
   ]
  },
  {
   "cell_type": "code",
   "execution_count": 16,
   "metadata": {},
   "outputs": [
    {
     "name": "stdout",
     "output_type": "stream",
     "text": [
      "Test statistic (mean difference): 9.450000000000017\n",
      "Confidence interval for mean difference: (3.549999999999983, 15.150000000000006)\n",
      "The test statistic is within the confidence interval. There is not significant evidence that the heights differ.\n"
     ]
    }
   ],
   "source": [
    "#ASSIGNMENT 2 PART 2\n",
    "\n",
    "import numpy as np\n",
    "#Step by step\n",
    "#step1: Split the provided data into two groups: Dutch and international students. (This step requires additional information to categorize the provided heights into two groups.)\n",
    "#step2: Calculate the test statistic (mean difference) between the two groups.\n",
    "#step3: Use a bootstrap method to generate a confidence interval for the test statistic.\n",
    "#step4: Compare the test statistic with the confidence interval to determine if the heights differ significantly.\n",
    "#step5: Assuming the first 20 heights are Dutch students and the next 20 are international students\n",
    "\n",
    "heights = np.array([178, 183, 175, 196, 189, 190, 180, 190, 180, 189, 186, 195, 175, 185, 180, 182, 190, 158, 166, 196, 169, 176, 161, 172, 171, 165, 172, 156, 177, 182, 176, 171, 157, 185, 194, 173, 185, 168, 180, 184])\n",
    "dutch_heights = heights[:20]\n",
    "international_heights = heights[20:]\n",
    "\n",
    "# Step 1: Calculate the test statistic (mean difference)\n",
    "test_statistic = np.mean(dutch_heights) - np.mean(international_heights)\n",
    "print(f\"Test statistic (mean difference): {test_statistic}\")\n",
    "\n",
    "# Step 2: Bootstrap function for confidence interval\n",
    "def bootstrap_mean_difference_confidence_interval(group1, group2, num_samples=10000, confidence_level=0.95):\n",
    "    mean_differences = []\n",
    "    for _ in range(num_samples):\n",
    "        bootstrap_sample1 = np.random.choice(group1, size=len(group1), replace=True)\n",
    "        bootstrap_sample2 = np.random.choice(group2, size=len(group2), replace=True)\n",
    "        mean_differences.append(np.mean(bootstrap_sample1) - np.mean(bootstrap_sample2))\n",
    "    lower_bound = np.percentile(mean_differences, (1 - confidence_level) / 2 * 100)\n",
    "    upper_bound = np.percentile(mean_differences, (1 + confidence_level) / 2 * 100)\n",
    "    return lower_bound, upper_bound\n",
    "\n",
    "# Step 3: Generate confidence interval for the test statistic\n",
    "lower_bound, upper_bound = bootstrap_mean_difference_confidence_interval(dutch_heights, international_heights)\n",
    "print(f\"Confidence interval for mean difference: ({lower_bound}, {upper_bound})\")\n",
    "\n",
    "# Step 4: Compare the test statistic to the confidence interval\n",
    "if lower_bound <= test_statistic <= upper_bound:\n",
    "    print(\"The test statistic is within the confidence interval. There is not significant evidence that the heights differ.\")\n",
    "else:\n",
    "    print(\"The test statistic is outside the confidence interval. There is significant evidence that the heights of Dutch and international students differ.\")"
   ]
  },
  {
   "cell_type": "code",
   "execution_count": 15,
   "metadata": {},
   "outputs": [
    {
     "name": "stdout",
     "output_type": "stream",
     "text": [
      "Pearson correlation coefficient: 0.7061963608422989\n",
      "Confidence interval for correlation coefficient: (-0.31432970308110253, 0.3079794342370332)\n",
      "The correlation coefficient is outside the confidence interval. There is significant evidence of a correlation.\n"
     ]
    }
   ],
   "source": [
    "#ASSIGNMENT 3\n",
    "\n",
    "import numpy as np\n",
    "import scipy.stats as stats\n",
    "\n",
    "#Step1: Extract the relevant pairs of variables from the dataset.\n",
    "#Step2: Calculate the Pearson correlation coefficient for each pair as the test statistic.\n",
    "#Step3: Use a permutation test to generate a confidence interval for the correlation coefficient.\n",
    "#Step4: Compare the correlation coefficient to the confidence interval to determine if the correlation is significant.\n",
    "\n",
    "# data\n",
    "data = np.array([\n",
    "    [178, 70], [183, 75], [175, 67], [196, 76], [189, 70], [190, 79], [180, 70], [190, 70],\n",
    "    [180, 71], [189, 74], [186, 73], [195, 74], [175, 68], [185, 70], [180, 71], [182, 70],\n",
    "    [190, 80], [158, 57], [166, 66], [196, 79], [169, 67], [176, 65], [161, 64], [172, 69],\n",
    "    [171, 72], [165, 65], [172, 70], [156, 60], [177, 60], [182, 73], [176, 73], [171, 62],\n",
    "    [157, 63], [185, 81], [194, 95], [173, 72], [185, 61], [168, 68], [180, 77], [184, 70]\n",
    "])\n",
    "\n",
    "# Step 1: Extract body length and arm length\n",
    "body_length = data[:, 0]\n",
    "arm_length = data[:, 1]\n",
    "\n",
    "# Step 2: Calculate the Pearson correlation coefficient\n",
    "correlation_coefficient = np.corrcoef(body_length, arm_length)[0, 1]\n",
    "print(f\"Pearson correlation coefficient: {correlation_coefficient}\")\n",
    "\n",
    "# Step 3: Permutation test for confidence interval\n",
    "def permutation_test(x, y, num_permutations=10000, confidence_level=0.95):\n",
    "    observed_corr = np.corrcoef(x, y)[0, 1]\n",
    "    permuted_corrs = []\n",
    "    for _ in range(num_permutations):\n",
    "        y_permuted = np.random.permutation(y)\n",
    "        permuted_corrs.append(np.corrcoef(x, y_permuted)[0, 1])\n",
    "    lower_bound = np.percentile(permuted_corrs, (1 - confidence_level) / 2 * 100)\n",
    "    upper_bound = np.percentile(permuted_corrs, (1 + confidence_level) / 2 * 100)\n",
    "    return observed_corr, lower_bound, upper_bound\n",
    "\n",
    "observed_corr, lower_bound, upper_bound = permutation_test(body_length, arm_length)\n",
    "print(f\"Confidence interval for correlation coefficient: ({lower_bound}, {upper_bound})\")\n",
    "\n",
    "# Step 4: Compare the correlation coefficient to the confidence interval\n",
    "if lower_bound <= observed_corr <= upper_bound:\n",
    "    print(\"The correlation coefficient is within the confidence interval. There is not significant evidence of a correlation.\")\n",
    "else:\n",
    "    print(\"The correlation coefficient is outside the confidence interval. There is significant evidence of a correlation.\")"
   ]
  }
 ],
 "metadata": {
  "kernelspec": {
   "display_name": "AIdobermann",
   "language": "python",
   "name": "aidobermann"
  },
  "language_info": {
   "codemirror_mode": {
    "name": "ipython",
    "version": 3
   },
   "file_extension": ".py",
   "mimetype": "text/x-python",
   "name": "python",
   "nbconvert_exporter": "python",
   "pygments_lexer": "ipython3",
   "version": "3.8.0"
  }
 },
 "nbformat": 4,
 "nbformat_minor": 2
}
