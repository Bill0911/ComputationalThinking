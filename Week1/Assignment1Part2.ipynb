{
 "cells": [
  {
   "cell_type": "code",
   "execution_count": null,
   "metadata": {},
   "outputs": [],
   "source": [
    "import numpy as np\n",
    "import random\n",
    "import matplotlib.pyplot as plt\n",
    "from scipy.stats import norm\n",
    "\n",
    "# Step 1\n",
    "def roll_die():\n",
    "    return random.randint(1, 6)\n",
    "\n",
    "# Step 2\n",
    "def simulate_session(k):\n",
    "    return [roll_die() for _ in range(k)]\n",
    "\n",
    "# Step 3\n",
    "def calculate_test_statistic(session):\n",
    "    return sum(session) / len(session)\n",
    "\n",
    "# Step 4\n",
    "def simulate_test_statistics(n, k):\n",
    "    return [calculate_test_statistic(simulate_session(k)) for _ in range(n)]\n",
    "\n",
    "# Step 5\n",
    "def calculate_boundaries(test_statistics):\n",
    "    return np.percentile(test_statistics, 2.5), np.percentile(test_statistics, 97.5)\n",
    "\n",
    "# Step 6\n",
    "def is_fair(sample, boundaries):\n",
    "    sample_statistic = calculate_test_statistic(sample)\n",
    "    return boundaries[0] <= sample_statistic <= boundaries[1]\n",
    "\n",
    "# Step 7\n",
    "for n, k in [(1000, 10), (100, 10), (1000, 100), (10000, 1000)]:\n",
    "    test_statistics = simulate_test_statistics(n, k)\n",
    "    boundaries = calculate_boundaries(test_statistics)\n",
    "    samples = [[1, 2, 3, 4, 5, 6] * (k // 6) for _ in range(5)]\n",
    "    for sample in samples:\n",
    "        print(f\"n={n}, k={k}, sample={sample[:6]}..., is_fair={is_fair(sample, boundaries)}\")\n",
    "\n",
    "# Optional: Fit a normal distribution\n",
    "mu, std = norm.fit(test_statistics)\n",
    "plt.hist(test_statistics, bins=30, density=True, alpha=0.6, color='g')\n",
    "xmin, xmax = plt.xlim()\n",
    "x = np.linspace(xmin, xmax, 100)\n",
    "p = norm.pdf(x, mu, std)\n",
    "plt.plot(x, p, 'k', linewidth=2)\n",
    "plt.title(f\"Fit results: mu = {mu:.2f},  std = {std:.2f}\")\n",
    "plt.show()"
   ]
  }
 ],
 "metadata": {
  "language_info": {
   "name": "python"
  }
 },
 "nbformat": 4,
 "nbformat_minor": 2
}
